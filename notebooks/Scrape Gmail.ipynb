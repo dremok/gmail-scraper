{
 "cells": [
  {
   "cell_type": "code",
   "execution_count": 1,
   "metadata": {},
   "outputs": [],
   "source": [
    "import imaplib\n",
    "import re"
   ]
  },
  {
   "cell_type": "code",
   "execution_count": 2,
   "metadata": {},
   "outputs": [],
   "source": [
    "FROM_EMAIL  = \"max.y.leander@gmail.com\"\n",
    "FROM_PWD    = \"JjnpStrossle123\"\n",
    "SMTP_SERVER = \"imap.gmail.com\"\n",
    "SMTP_PORT   = 993"
   ]
  },
  {
   "cell_type": "code",
   "execution_count": 3,
   "metadata": {},
   "outputs": [
    {
     "data": {
      "text/plain": [
       "('OK', [b'max.y.leander@gmail.com authenticated (Success)'])"
      ]
     },
     "execution_count": 3,
     "metadata": {},
     "output_type": "execute_result"
    }
   ],
   "source": [
    "mail = imaplib.IMAP4_SSL(SMTP_SERVER)\n",
    "mail.login(FROM_EMAIL, FROM_PWD)"
   ]
  },
  {
   "cell_type": "code",
   "execution_count": 4,
   "metadata": {},
   "outputs": [],
   "source": [
    "list_response_pattern = re.compile(r'\\((?P<flags>.*?)\\) \"(?P<delimiter>.*)\" (?P<name>.*)')\n",
    "def parse_list_response(line):\n",
    "    flags, delimiter, mailbox_name = list_response_pattern.match(line).groups()\n",
    "    mailbox_name = mailbox_name.strip('\"')\n",
    "    return (flags, delimiter, mailbox_name)"
   ]
  },
  {
   "cell_type": "code",
   "execution_count": 5,
   "metadata": {},
   "outputs": [
    {
     "name": "stdout",
     "output_type": "stream",
     "text": [
      "BLN\n",
      "178\n",
      "Claudia\n",
      "85\n",
      "INBOX\n",
      "1383\n",
      "Personal\n",
      "1\n",
      "Receipts\n",
      "0\n",
      "Skickad e-post\n",
      "0\n",
      "Travel\n",
      "0\n",
      "Work\n",
      "0\n",
      "[Gmail]\n",
      "Could not search for e-mails in \"[Gmail]\"\n",
      "[Gmail]/All Mail\n",
      "37054\n",
      "[Gmail]/Drafts\n",
      "0\n",
      "[Gmail]/Important\n",
      "21099\n",
      "[Gmail]/Sent Mail\n",
      "4486\n",
      "[Gmail]/Spam\n",
      "11\n",
      "[Gmail]/Starred\n",
      "2\n",
      "[Gmail]/Trash\n",
      "0\n"
     ]
    }
   ],
   "source": [
    "_, box_list = mail.list()\n",
    "for line in box_list:\n",
    "    _, _, mailbox_name = parse_list_response(line.decode('utf-8'))\n",
    "    print(mailbox_name)\n",
    "    mail.select(f'\"{mailbox_name}\"')\n",
    "    try:\n",
    "        _, data = mail.search(None, 'ALL')\n",
    "        ids = data[0].split()\n",
    "        print(len(ids))\n",
    "    except Exception:\n",
    "        print(f'Could not search for e-mails in \"{mailbox_name}\"')"
   ]
  },
  {
   "cell_type": "code",
   "execution_count": 6,
   "metadata": {},
   "outputs": [
    {
     "name": "stdout",
     "output_type": "stream",
     "text": [
      "cederberg.erik@gmail.com + erik.cederberg@kontigo.se = 0\n",
      "cederberg.erik@gmail.com + johannes.siven@gmail.com = 1\n",
      "cederberg.erik@gmail.com + johannessiven@gmail.com = 1230\n",
      "cederberg.erik@gmail.com + steen.eriksteen@gmail.com = 1299\n",
      "cederberg.erik@gmail.com + valdemar@scandikitchen.co.uk = 1876\n",
      "cederberg.erik@gmail.com + valdemar.lundh@gmail.com = 1888\n",
      "erik.cederberg@kontigo.se + johannes.siven@gmail.com = 1905\n",
      "erik.cederberg@kontigo.se + johannessiven@gmail.com = 1905\n",
      "erik.cederberg@kontigo.se + steen.eriksteen@gmail.com = 1905\n",
      "erik.cederberg@kontigo.se + valdemar@scandikitchen.co.uk = 1911\n",
      "erik.cederberg@kontigo.se + valdemar.lundh@gmail.com = 1911\n",
      "johannes.siven@gmail.com + erik.cederberg@kontigo.se = 1911\n",
      "johannes.siven@gmail.com + johannessiven@gmail.com = 1911\n",
      "johannes.siven@gmail.com + steen.eriksteen@gmail.com = 1980\n",
      "johannes.siven@gmail.com + valdemar@scandikitchen.co.uk = 2807\n",
      "johannes.siven@gmail.com + valdemar.lundh@gmail.com = 2905\n",
      "johannessiven@gmail.com + erik.cederberg@kontigo.se = 2931\n",
      "johannessiven@gmail.com + johannes.siven@gmail.com = 2931\n",
      "johannessiven@gmail.com + steen.eriksteen@gmail.com = 2931\n",
      "johannessiven@gmail.com + valdemar@scandikitchen.co.uk = 2941\n",
      "johannessiven@gmail.com + valdemar.lundh@gmail.com = 2944\n",
      "steen.eriksteen@gmail.com + erik.cederberg@kontigo.se = 2948\n",
      "steen.eriksteen@gmail.com + johannes.siven@gmail.com = 2948\n",
      "steen.eriksteen@gmail.com + johannessiven@gmail.com = 2948\n",
      "steen.eriksteen@gmail.com + valdemar@scandikitchen.co.uk = 2948\n",
      "steen.eriksteen@gmail.com + valdemar.lundh@gmail.com = 2948\n",
      "valdemar@scandikitchen.co.uk + erik.cederberg@kontigo.se = 2957\n",
      "valdemar@scandikitchen.co.uk + johannes.siven@gmail.com = 2957\n",
      "valdemar@scandikitchen.co.uk + johannessiven@gmail.com = 2957\n",
      "valdemar@scandikitchen.co.uk + steen.eriksteen@gmail.com = 2957\n",
      "valdemar@scandikitchen.co.uk + valdemar.lundh@gmail.com = 2957\n",
      "2961\n"
     ]
    }
   ],
   "source": [
    "mail.select(f'\"[Gmail]/All Mail\"')\n",
    "mail_ids = set()\n",
    "to_adresses = ['cederberg.erik@gmail.com', \n",
    "               'erik.cederberg@kontigo.se',\n",
    "               'johannes.siven@gmail.com', \n",
    "               'johannessiven@gmail.com',\n",
    "               'steen.eriksteen@gmail.com', \n",
    "               'valdemar@scandikitchen.co.uk',\n",
    "               'valdemar.lundh@gmail.com'\n",
    "              ]\n",
    "for adr1 in to_adresses[:-1]:\n",
    "    for adr2 in to_adresses[1:]:\n",
    "        if adr1 == adr2:\n",
    "            continue\n",
    "        _, data = mail.search(None, f'(TO \"{adr1}\" TO \"{adr2}\")')\n",
    "        print(f'{adr1} + {adr2} = {len(mail_ids)}')\n",
    "        mail_ids.update(data[0].split())\n",
    "mail_ids = list(mail_ids)\n",
    "print(len(mail_ids))"
   ]
  },
  {
   "cell_type": "code",
   "execution_count": 7,
   "metadata": {},
   "outputs": [],
   "source": [
    "from html.parser import HTMLParser\n",
    "\n",
    "class MLStripper(HTMLParser):\n",
    "    def __init__(self):\n",
    "        self.reset()\n",
    "        self.strict = False\n",
    "        self.convert_charrefs= True\n",
    "        self.fed = []\n",
    "    def handle_data(self, d):\n",
    "        self.fed.append(d)\n",
    "    def get_data(self):\n",
    "        return ''.join(self.fed)\n",
    "\n",
    "def strip_tags(html):\n",
    "    s = MLStripper()\n",
    "    s.feed(html)\n",
    "    return s.get_data()"
   ]
  },
  {
   "cell_type": "code",
   "execution_count": 26,
   "metadata": {},
   "outputs": [],
   "source": [
    "def parse_content(msg):\n",
    "    content = []\n",
    "    if msg.is_multipart():\n",
    "        for payload in msg.get_payload():\n",
    "            content.append(payload.get_payload(decode=True).decode('utf-8'))\n",
    "    else:\n",
    "        content.append(msg.get_payload(decode=True).decode('utf-8'))\n",
    "    return strip_tags('\\n'.join(content))"
   ]
  },
  {
   "cell_type": "code",
   "execution_count": 28,
   "metadata": {},
   "outputs": [],
   "source": [
    "import email\n",
    "_, data = mail.fetch(mail_ids[0], '(RFC822)')\n",
    "msg = email.message_from_string(data[0][1].decode('utf-8'))\n",
    "parsed_msg = parse_content(msg)"
   ]
  },
  {
   "cell_type": "code",
   "execution_count": 36,
   "metadata": {},
   "outputs": [],
   "source": [
    "class MsgNode:\n",
    "    def __init__(self):\n",
    "        self.msg = []\n",
    "        self.parent = None"
   ]
  },
  {
   "cell_type": "code",
   "execution_count": 37,
   "metadata": {},
   "outputs": [],
   "source": [
    "current_msg = MsgNode()\n",
    "level = 0\n",
    "for line in parsed_msg.split('\\n'):\n",
    "    if line.startswith('>' * level):\n",
    "        current_msg.msg.append(line)\n",
    "    elif line.startswith('>' * (level + 1)):\n",
    "        next_msg = MsgNode()\n",
    "        current_msg.parent = next_msg\n",
    "        current_msg = next_msg\n",
    "        current_msg.msg.append(line)"
   ]
  }
 ],
 "metadata": {
  "kernelspec": {
   "display_name": "Python [conda env:gmail] *",
   "language": "python",
   "name": "conda-env-gmail-py"
  },
  "language_info": {
   "codemirror_mode": {
    "name": "ipython",
    "version": 3
   },
   "file_extension": ".py",
   "mimetype": "text/x-python",
   "name": "python",
   "nbconvert_exporter": "python",
   "pygments_lexer": "ipython3",
   "version": "3.7.3"
  }
 },
 "nbformat": 4,
 "nbformat_minor": 2
}
